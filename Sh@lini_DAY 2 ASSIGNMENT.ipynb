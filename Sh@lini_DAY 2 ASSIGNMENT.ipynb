{
 "cells": [
  {
   "cell_type": "code",
   "execution_count": 19,
   "id": "6cc0c74c",
   "metadata": {},
   "outputs": [
    {
     "name": "stdout",
     "output_type": "stream",
     "text": [
      "2\n"
     ]
    }
   ],
   "source": [
    "#question1\n",
    "def sm(words):\n",
    "  c = 0\n",
    "  for word in words:\n",
    "    if len(word) >=2 and word[0] == word[-1]:\n",
    "      c+= 1\n",
    "  return c\n",
    "print(sm(['abc', 'xyz', 'aba', '1221']))"
   ]
  },
  {
   "cell_type": "code",
   "execution_count": 31,
   "id": "bf259f3c",
   "metadata": {},
   "outputs": [
    {
     "name": "stdout",
     "output_type": "stream",
     "text": [
      "Enter a multiple value: abc xyz aba 1221\n",
      "2\n"
     ]
    }
   ],
   "source": [
    "#question1 \n",
    "c = 0\n",
    "for word in list(input(\"Enter a multiple value: \").split()):\n",
    "    c+=1 if len(word) >=2 and word[0] == word[-1] else 0\n",
    "print(c)"
   ]
  },
  {
   "cell_type": "code",
   "execution_count": 42,
   "id": "1abbb03a",
   "metadata": {},
   "outputs": [
    {
     "name": "stdout",
     "output_type": "stream",
     "text": [
      "[(2, 1), (1, 2), (2, 3), (4, 4), (2, 5)]\n"
     ]
    }
   ],
   "source": [
    "#question2\n",
    "list=[(2, 5), (1, 2), (4, 4), (2, 3), (2, 1)]\n",
    "list.sort(key=lambda x:x[1])\n",
    "print(list)"
   ]
  },
  {
   "cell_type": "code",
   "execution_count": 49,
   "id": "c3a5579d",
   "metadata": {},
   "outputs": [
    {
     "name": "stdout",
     "output_type": "stream",
     "text": [
      "False\n"
     ]
    }
   ],
   "source": [
    "#question3\n",
    "def ele(l1,l2):\n",
    "    a = set(l1)\n",
    "    b = set(l2)\n",
    "    if len(a.intersection(b)) > 0:\n",
    "        return(True)\n",
    "    return(False)\n",
    "l1 = [1,2,3,4,5]\n",
    "l2 = [6,7,8,9]\n",
    "print(ele(l1,l2))"
   ]
  },
  {
   "cell_type": "code",
   "execution_count": null,
   "id": "2c638391",
   "metadata": {},
   "outputs": [],
   "source": [
    "#question3\n",
    "a =[1, 2, 3, 4, 5]\n",
    "b =[6, 7, 8, 9]\n",
    "c=0;\n",
    "for i in a:\n",
    "    for j in b:\n",
    "        if(i==j):\n",
    "            c=1\n",
    "print(bool(c))"
   ]
  },
  {
   "cell_type": "code",
   "execution_count": 53,
   "id": "82bb57dc",
   "metadata": {},
   "outputs": [
    {
     "name": "stdout",
     "output_type": "stream",
     "text": [
      "['Green', 'White', 'Black']\n"
     ]
    }
   ],
   "source": [
    "#question4\n",
    "ls=['Red', 'Green', 'White', 'Black', 'Pink', 'Yellow']\n",
    "ls.pop(0)\n",
    "ls.pop(3)\n",
    "ls.pop(3)\n",
    "print(ls)"
   ]
  },
  {
   "cell_type": "code",
   "execution_count": 63,
   "id": "85407925",
   "metadata": {},
   "outputs": [
    {
     "name": "stdout",
     "output_type": "stream",
     "text": [
      "[7, 25, 27]\n"
     ]
    }
   ],
   "source": [
    "#question5\n",
    "n= [7,8, 120, 25, 44, 20, 27]\n",
    "n = [x for x in num if x%2!=0]\n",
    "print(n)"
   ]
  },
  {
   "cell_type": "code",
   "execution_count": 6,
   "id": "d0debed9",
   "metadata": {},
   "outputs": [
    {
     "name": "stdout",
     "output_type": "stream",
     "text": [
      "1\n",
      "30\n",
      "[1, 4, 9, 16, 25]\n",
      "[625, 676, 729, 784, 841]\n"
     ]
    }
   ],
   "source": [
    "#question6\n",
    "li=[]\n",
    "for i in range(int(input()),int(input())):li.append(i**2)\n",
    "print(li[:5])\n",
    "print(li[-5:])"
   ]
  },
  {
   "cell_type": "code",
   "execution_count": null,
   "id": "bad87742",
   "metadata": {},
   "outputs": [],
   "source": [
    "#question7\n",
    "li=[]\n",
    "for i in range(int(input())+5,int(input())):\n",
    "    li.append(i**2)\n",
    "print(li)\n"
   ]
  },
  {
   "cell_type": "code",
   "execution_count": 3,
   "id": "c8312d3c",
   "metadata": {},
   "outputs": [
    {
     "name": "stdout",
     "output_type": "stream",
     "text": [
      "Maximum value of the said set:\n",
      "20\n",
      "Minimum value of the said set:\n",
      "2\n"
     ]
    }
   ],
   "source": [
    "#question8\n",
    "s={5, 10, 3, 15, 2, 20}\n",
    "print(\"Maximum value of the said set:\\n\"+str(max(s)))\n",
    "print(\"Minimum value of the said set:\\n\"+str(min(s)))"
   ]
  },
  {
   "cell_type": "code",
   "execution_count": 14,
   "id": "18966085",
   "metadata": {},
   "outputs": [
    {
     "name": "stdout",
     "output_type": "stream",
     "text": [
      "length of the said set: 2\n"
     ]
    }
   ],
   "source": [
    "#question9\n",
    "print(\"length of the said set:\",len({5, 5, 5, 5, 5, 5, 7}))"
   ]
  },
  {
   "cell_type": "code",
   "execution_count": 19,
   "id": "78f67337",
   "metadata": {},
   "outputs": [
    {
     "name": "stdout",
     "output_type": "stream",
     "text": [
      "5\n",
      "Present\n"
     ]
    }
   ],
   "source": [
    "#question10\n",
    "ls=[4, 2, 9, 5, 1, 0, 7]\n",
    "try:\n",
    "    print(\"Present\" if ls.index(int(input()))!=-1 else \"Not Present\")\n",
    "except:\n",
    "    print(\"Not Present\")"
   ]
  },
  {
   "cell_type": "code",
   "execution_count": 20,
   "id": "3d6bd210",
   "metadata": {},
   "outputs": [
    {
     "name": "stdout",
     "output_type": "stream",
     "text": [
      "(20, 15, 10, 5)\n"
     ]
    }
   ],
   "source": [
    "#question11\n",
    "tup=(5, 10, 15, 20)\n",
    "print(tup[::-1])"
   ]
  },
  {
   "cell_type": "code",
   "execution_count": 21,
   "id": "d93b45e1",
   "metadata": {},
   "outputs": [
    {
     "name": "stdout",
     "output_type": "stream",
     "text": [
      "This is tuple (100, 200, 300)\n"
     ]
    }
   ],
   "source": [
    "#question12\n",
    "tup=(100, 200, 300)\n",
    "print(\"This is tuple\",tup[:])"
   ]
  },
  {
   "cell_type": "code",
   "execution_count": 22,
   "id": "a90cd9e5",
   "metadata": {},
   "outputs": [
    {
     "name": "stdout",
     "output_type": "stream",
     "text": [
      "[(10, 20, 100), (40, 50, 100), (70, 80, 100)]\n"
     ]
    }
   ],
   "source": [
    "#question13\n",
    "ls=[(10, 20, 40), (40, 50, 60), (70, 80, 90)]\n",
    "print([t[:-1] + (100,) for t in ls])"
   ]
  },
  {
   "cell_type": "code",
   "execution_count": 1,
   "id": "0a0fadd2",
   "metadata": {},
   "outputs": [
    {
     "name": "stdout",
     "output_type": "stream",
     "text": [
      "[('',), ('a', 'b'), ('a', 'b', 'c'), 'd']\n"
     ]
    }
   ],
   "source": [
    "#question14\n",
    "li=[(), (), ('',), ('a', 'b'), ('a', 'b', 'c'), ('d')]\n",
    "li.remove(())\n",
    "li.remove(())\n",
    "print(li)"
   ]
  },
  {
   "cell_type": "code",
   "execution_count": 32,
   "id": "de4f8ab3",
   "metadata": {},
   "outputs": [
    {
     "name": "stdout",
     "output_type": "stream",
     "text": [
      "[('item3', '24.5'), ('item2', '15.10'), ('item1', '12.20')]\n"
     ]
    }
   ],
   "source": [
    "#question15\n",
    "list=[('item1', '12.20'), ('item2', '15.10'), ('item3', '24.5')]\n",
    "list.sort(key=lambda x:x[1],reverse=True)\n",
    "print(list)"
   ]
  }
 ],
 "metadata": {
  "kernelspec": {
   "display_name": "Python 3",
   "language": "python",
   "name": "python3"
  },
  "language_info": {
   "codemirror_mode": {
    "name": "ipython",
    "version": 3
   },
   "file_extension": ".py",
   "mimetype": "text/x-python",
   "name": "python",
   "nbconvert_exporter": "python",
   "pygments_lexer": "ipython3",
   "version": "3.8.8"
  }
 },
 "nbformat": 4,
 "nbformat_minor": 5
}
