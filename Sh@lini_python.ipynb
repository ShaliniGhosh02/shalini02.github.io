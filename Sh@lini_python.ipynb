{
 "cells": [
  {
   "cell_type": "code",
   "execution_count": 1,
   "id": "1624b456",
   "metadata": {},
   "outputs": [
    {
     "name": "stdout",
     "output_type": "stream",
     "text": [
      "1000\n"
     ]
    }
   ],
   "source": [
    "x_y=1000\n",
    "print(x_y)"
   ]
  },
  {
   "cell_type": "code",
   "execution_count": 4,
   "id": "c9a9cd83",
   "metadata": {},
   "outputs": [
    {
     "data": {
      "text/plain": [
       "str"
      ]
     },
     "execution_count": 4,
     "metadata": {},
     "output_type": "execute_result"
    }
   ],
   "source": [
    "type(\"shalini\")"
   ]
  },
  {
   "cell_type": "code",
   "execution_count": 5,
   "id": "de989a0e",
   "metadata": {},
   "outputs": [
    {
     "ename": "SyntaxError",
     "evalue": "invalid decimal literal (<ipython-input-5-71c2c99c465c>, line 1)",
     "output_type": "error",
     "traceback": [
      "\u001b[1;36m  File \u001b[1;32m\"<ipython-input-5-71c2c99c465c>\"\u001b[1;36m, line \u001b[1;32m1\u001b[0m\n\u001b[1;33m    5_a=100\u001b[0m\n\u001b[1;37m     ^\u001b[0m\n\u001b[1;31mSyntaxError\u001b[0m\u001b[1;31m:\u001b[0m invalid decimal literal\n"
     ]
    }
   ],
   "source": [
    "5_a=100\n",
    "print(5_a)"
   ]
  },
  {
   "cell_type": "code",
   "execution_count": 8,
   "id": "6fb4f3fb",
   "metadata": {},
   "outputs": [
    {
     "name": "stdout",
     "output_type": "stream",
     "text": [
      "140737294183760\n",
      "140737294183760\n",
      "1913431373360\n"
     ]
    }
   ],
   "source": [
    "a=50\n",
    "b=a\n",
    "print(id(a))\n",
    "print(id(b))\n",
    "a=500\n",
    "print(id(a))"
   ]
  },
  {
   "cell_type": "code",
   "execution_count": 9,
   "id": "d42d6781",
   "metadata": {},
   "outputs": [
    {
     "name": "stdout",
     "output_type": "stream",
     "text": [
      "50\n",
      "50\n",
      "50\n"
     ]
    }
   ],
   "source": [
    "x=y=z=50\n",
    "print(x)\n",
    "print(y)\n",
    "print(z)"
   ]
  },
  {
   "cell_type": "code",
   "execution_count": 10,
   "id": "b8154179",
   "metadata": {},
   "outputs": [
    {
     "name": "stdout",
     "output_type": "stream",
     "text": [
      "5\n",
      "10\n",
      "15\n"
     ]
    }
   ],
   "source": [
    "a,b,c=5,10,15\n",
    "print(a)\n",
    "print(b)\n",
    "print(c)"
   ]
  },
  {
   "cell_type": "markdown",
   "id": "363bdb6d",
   "metadata": {},
   "source": [
    "def add():\n",
    " a=20\n",
    " b=30\n",
    " c=a+b\n",
    " print (\"the sum is\",c)\n",
    "add()\n",
    "print(a)#returns garbage value"
   ]
  },
  {
   "cell_type": "code",
   "execution_count": 19,
   "id": "4ff0cc62",
   "metadata": {},
   "outputs": [
    {
     "name": "stdout",
     "output_type": "stream",
     "text": [
      "6\n"
     ]
    },
    {
     "ename": "NameError",
     "evalue": "name 'x' is not defined",
     "output_type": "error",
     "traceback": [
      "\u001b[1;31m---------------------------------------------------------------------------\u001b[0m",
      "\u001b[1;31mNameError\u001b[0m                                 Traceback (most recent call last)",
      "\u001b[1;32m<ipython-input-19-cbd56f51084d>\u001b[0m in \u001b[0;36m<module>\u001b[1;34m\u001b[0m\n\u001b[0;32m      2\u001b[0m \u001b[0mprint\u001b[0m\u001b[1;33m(\u001b[0m\u001b[0mx\u001b[0m\u001b[1;33m)\u001b[0m\u001b[1;33m\u001b[0m\u001b[1;33m\u001b[0m\u001b[0m\n\u001b[0;32m      3\u001b[0m \u001b[1;32mdel\u001b[0m \u001b[0mx\u001b[0m\u001b[1;33m\u001b[0m\u001b[1;33m\u001b[0m\u001b[0m\n\u001b[1;32m----> 4\u001b[1;33m \u001b[0mprint\u001b[0m\u001b[1;33m(\u001b[0m\u001b[0mx\u001b[0m\u001b[1;33m)\u001b[0m\u001b[1;33m\u001b[0m\u001b[1;33m\u001b[0m\u001b[0m\n\u001b[0m",
      "\u001b[1;31mNameError\u001b[0m: name 'x' is not defined"
     ]
    }
   ],
   "source": [
    "x=6\n",
    "print(x)\n",
    "del x\n",
    "print(x)"
   ]
  },
  {
   "cell_type": "code",
   "execution_count": 20,
   "id": "acec9e25",
   "metadata": {},
   "outputs": [
    {
     "name": "stdout",
     "output_type": "stream",
     "text": [
      "5\n",
      "5\n"
     ]
    }
   ],
   "source": [
    "a=5\n",
    "print(a)\n",
    "print((a))"
   ]
  },
  {
   "cell_type": "code",
   "execution_count": 21,
   "id": "4619b9f4",
   "metadata": {},
   "outputs": [
    {
     "name": "stdout",
     "output_type": "stream",
     "text": [
      "5 6\n",
      "1 2 3 4 5 6 7 8\n"
     ]
    }
   ],
   "source": [
    "a=5\n",
    "b=6\n",
    "print(a,b)\n",
    "print(1,2,3,4,5,6,7,8)"
   ]
  },
  {
   "cell_type": "code",
   "execution_count": 25,
   "id": "d068374a",
   "metadata": {},
   "outputs": [
    {
     "name": "stdout",
     "output_type": "stream",
     "text": [
      "<class 'int'>\n",
      "<class 'str'>\n",
      "<class 'float'>\n",
      "<class 'complex'>\n",
      "True\n",
      "False\n"
     ]
    }
   ],
   "source": [
    "a=10\n",
    "b=\"hi python\"\n",
    "c=10.5\n",
    "d=1-3j\n",
    "print(type(a))\n",
    "print(type(b))\n",
    "print(type(c))\n",
    "print(type(d))\n",
    "print(isinstance(1+3j,complex))\n",
    "print(isinstance(10.5,complex))"
   ]
  },
  {
   "cell_type": "raw",
   "id": "aa595308",
   "metadata": {},
   "source": [
    "str=\"hello world prog\"\n",
    "print(str\n",
    "s= '''' A Multiline\n",
    "string '''\n",
    "print(s)"
   ]
  },
  {
   "cell_type": "code",
   "execution_count": 32,
   "id": "2c5277e8",
   "metadata": {},
   "outputs": [
    {
     "name": "stdout",
     "output_type": "stream",
     "text": [
      "hello world prog\n",
      "'' A Multiline\n",
      "string \n"
     ]
    }
   ],
   "source": [
    "str=\"hello world prog\"\n",
    "print(str)\n",
    "s= ''''' A Multiline\n",
    "string '''\n",
    "print(s)"
   ]
  },
  {
   "cell_type": "code",
   "execution_count": 35,
   "id": "c8806b71",
   "metadata": {},
   "outputs": [
    {
     "name": "stdout",
     "output_type": "stream",
     "text": [
      "1\n",
      "3\n",
      "4\n"
     ]
    }
   ],
   "source": [
    "a=0\n",
    "while a<4:\n",
    " a+=1\n",
    " if a ==2:\n",
    "  continue\n",
    " print(a)\n"
   ]
  },
  {
   "cell_type": "code",
   "execution_count": 36,
   "id": "63bdd1f6",
   "metadata": {},
   "outputs": [
    {
     "name": "stdout",
     "output_type": "stream",
     "text": [
      "a is dividing by zero\n"
     ]
    },
    {
     "ename": "AssertionError",
     "evalue": "",
     "output_type": "error",
     "traceback": [
      "\u001b[1;31m---------------------------------------------------------------------------\u001b[0m",
      "\u001b[1;31mAssertionError\u001b[0m                            Traceback (most recent call last)",
      "\u001b[1;32m<ipython-input-36-dc7703aa5665>\u001b[0m in \u001b[0;36m<module>\u001b[1;34m\u001b[0m\n\u001b[0;32m      2\u001b[0m \u001b[0mb\u001b[0m\u001b[1;33m=\u001b[0m\u001b[1;36m0\u001b[0m\u001b[1;33m\u001b[0m\u001b[1;33m\u001b[0m\u001b[0m\n\u001b[0;32m      3\u001b[0m \u001b[0mprint\u001b[0m\u001b[1;33m(\u001b[0m\u001b[1;34m'a is dividing by zero'\u001b[0m\u001b[1;33m)\u001b[0m\u001b[1;33m\u001b[0m\u001b[1;33m\u001b[0m\u001b[0m\n\u001b[1;32m----> 4\u001b[1;33m \u001b[1;32massert\u001b[0m \u001b[0mb\u001b[0m\u001b[1;33m!=\u001b[0m\u001b[1;36m0\u001b[0m\u001b[1;33m\u001b[0m\u001b[1;33m\u001b[0m\u001b[0m\n\u001b[0m\u001b[0;32m      5\u001b[0m \u001b[0mprint\u001b[0m\u001b[1;33m(\u001b[0m\u001b[0ma\u001b[0m\u001b[1;33m/\u001b[0m\u001b[0mb\u001b[0m\u001b[1;33m)\u001b[0m\u001b[1;33m\u001b[0m\u001b[1;33m\u001b[0m\u001b[0m\n",
      "\u001b[1;31mAssertionError\u001b[0m: "
     ]
    }
   ],
   "source": [
    "a=10\n",
    "b=0\n",
    "print('a is dividing by zero')\n",
    "assert b!=0\n",
    "print(a/b)"
   ]
  },
  {
   "cell_type": "code",
   "execution_count": 37,
   "id": "fc2a8beb",
   "metadata": {},
   "outputs": [
    {
     "name": "stdout",
     "output_type": "stream",
     "text": [
      "30\n"
     ]
    }
   ],
   "source": [
    "def my_func(a,b):\n",
    "    c=a+b\n",
    "    print(c)\n",
    "my_func(10,20)\n"
   ]
  },
  {
   "cell_type": "code",
   "execution_count": 41,
   "id": "5c8208c2",
   "metadata": {},
   "outputs": [
    {
     "name": "stdout",
     "output_type": "stream",
     "text": [
      "0\n",
      "1\n",
      "2\n",
      "end of execution\n"
     ]
    }
   ],
   "source": [
    "for i in range(5):\n",
    "    if (i==3):\n",
    "         break\n",
    "    print(i)\n",
    "print(\"end of execution\")"
   ]
  },
  {
   "cell_type": "code",
   "execution_count": 46,
   "id": "522cfc5f",
   "metadata": {},
   "outputs": [],
   "source": []
  },
  {
   "cell_type": "code",
   "execution_count": 2,
   "id": "a34c7b91",
   "metadata": {},
   "outputs": [],
   "source": [
    "i=18\n",
    "if(i<12):\n",
    "    print(\"i am less  than 18\")"
   ]
  },
  {
   "cell_type": "code",
   "execution_count": 44,
   "id": "1ae2f37f",
   "metadata": {},
   "outputs": [
    {
     "ename": "SyntaxError",
     "evalue": "invalid syntax (<ipython-input-44-bb3bc268efbb>, line 4)",
     "output_type": "error",
     "traceback": [
      "\u001b[1;36m  File \u001b[1;32m\"<ipython-input-44-bb3bc268efbb>\"\u001b[1;36m, line \u001b[1;32m4\u001b[0m\n\u001b[1;33m    else:\u001b[0m\n\u001b[1;37m    ^\u001b[0m\n\u001b[1;31mSyntaxError\u001b[0m\u001b[1;31m:\u001b[0m invalid syntax\n"
     ]
    }
   ],
   "source": [
    "n=11\n",
    "if (n%2==0):\n",
    "   print(\"even\")\n",
    "   else:\n",
    "    print(\"odd\")\n",
    "    "
   ]
  },
  {
   "cell_type": "code",
   "execution_count": 6,
   "id": "42a93762",
   "metadata": {},
   "outputs": [
    {
     "ename": "IndentationError",
     "evalue": "expected an indented block (<ipython-input-6-6e4f61d9759b>, line 3)",
     "output_type": "error",
     "traceback": [
      "\u001b[1;36m  File \u001b[1;32m\"<ipython-input-6-6e4f61d9759b>\"\u001b[1;36m, line \u001b[1;32m3\u001b[0m\n\u001b[1;33m    print(\"i am less  than 18\")\u001b[0m\n\u001b[1;37m    ^\u001b[0m\n\u001b[1;31mIndentationError\u001b[0m\u001b[1;31m:\u001b[0m expected an indented block\n"
     ]
    }
   ],
   "source": [
    "i=18\n",
    "if(i<12):\n",
    "print(\"i am less  than 18\")"
   ]
  },
  {
   "cell_type": "code",
   "execution_count": 5,
   "id": "08021899",
   "metadata": {},
   "outputs": [
    {
     "data": {
      "text/plain": [
       "3"
      ]
     },
     "execution_count": 5,
     "metadata": {},
     "output_type": "execute_result"
    }
   ],
   "source": [
    "1+2"
   ]
  },
  {
   "cell_type": "code",
   "execution_count": 7,
   "id": "363f5969",
   "metadata": {},
   "outputs": [
    {
     "name": "stdout",
     "output_type": "stream",
     "text": [
      "3\n"
     ]
    }
   ],
   "source": [
    "a=1+2\n",
    "print(a)"
   ]
  },
  {
   "cell_type": "code",
   "execution_count": null,
   "id": "d82ea88f",
   "metadata": {},
   "outputs": [
    {
     "name": "stdout",
     "output_type": "stream",
     "text": [
      "Winning Rules of the lady hunter tiger game as follows: \n",
      "lady vs hunter->lady wins \n",
      "hunter vs tiger->hunter wins \n",
      "tiger vs lady-> tiger wins \n",
      "\n"
     ]
    }
   ],
   "source": [
    "import random\n",
    "print(\"Winning Rules of the lady hunter tiger game as follows: \\n\"\n",
    "                                +\"lady vs hunter->lady wins \\n\"\n",
    "                                + \"hunter vs tiger->hunter wins \\n\"\n",
    "                                +\"tiger vs lady-> tiger wins \\n\")\n",
    "while True:\n",
    "\n",
    "  choices=[\"lady\" , \"hunter\" , \"tiger\"]\n",
    "  computer = random.choice(choices)\n",
    "  player = None\n",
    "  while player not in choices:\n",
    "        player = input(\"your choice- lady,hunter or tiger?: \").lower()\n",
    "  if player== computer:\n",
    "         print(\"computer chose: \",computer)\n",
    "         print(\"player chose: \", player)\n",
    "         print(\"tie\")\n",
    "  elif player== \"lady\":\n",
    "      if computer==\"hunter\":\n",
    "         print(\"computer chose: \", computer)\n",
    "         print(\"player chose: \", player)\n",
    "         print(\"you win\")\n",
    "      if computer == \"tiger\":\n",
    "         print(\"computer chose: \", computer)\n",
    "         print(\"player chose: \", player)\n",
    "         print(\"you lose\")\n",
    "  elif player ==\"hunter\":\n",
    "      if computer == \"lady\":\n",
    "         print(\"computer chose: \", computer)\n",
    "         print(\"player chose: \", player)\n",
    "         print(\"you lose\")\n",
    "      if computer == \"tiger\":\n",
    "         print(\"computer chose: \", computer)\n",
    "         print(\"player chose: \", player)\n",
    "         print(\"you win\")\n",
    "  elif player==\"tiger\":\n",
    "      if computer == \"lady\":\n",
    "         print(\"computer chose: \", computer)\n",
    "         print(\"player chose: \", player)\n",
    "         print(\"you win\")\n",
    "      if computer == \"hunter\":\n",
    "         print(\"computer chose: \", computer)\n",
    "         print(\"player chose: \", player)\n",
    "         print(\"you lose\")\n",
    "  players_choice= input((\"Do you mant to play again?(Y/N) : \").lower())\n",
    "\n",
    "  if players_choice==\"Y\":\n",
    "    break\n",
    "print(\"good bye!!...have a nice day :) \")"
   ]
  },
  {
   "cell_type": "code",
   "execution_count": null,
   "id": "e55b0180",
   "metadata": {},
   "outputs": [],
   "source": []
  }
 ],
 "metadata": {
  "kernelspec": {
   "display_name": "Python 3",
   "language": "python",
   "name": "python3"
  },
  "language_info": {
   "codemirror_mode": {
    "name": "ipython",
    "version": 3
   },
   "file_extension": ".py",
   "mimetype": "text/x-python",
   "name": "python",
   "nbconvert_exporter": "python",
   "pygments_lexer": "ipython3",
   "version": "3.8.8"
  }
 },
 "nbformat": 4,
 "nbformat_minor": 5
}
