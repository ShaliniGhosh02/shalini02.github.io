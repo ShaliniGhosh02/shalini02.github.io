{
 "cells": [
  {
   "cell_type": "code",
   "execution_count": 96,
   "id": "814f2d28",
   "metadata": {},
   "outputs": [
    {
     "name": "stdout",
     "output_type": "stream",
     "text": [
      "enter the lower limit: 1\n",
      "enter the upper limit: 1000\n",
      "1\n",
      "2\n",
      "3\n",
      "4\n",
      "5\n",
      "6\n",
      "7\n",
      "8\n",
      "9\n",
      "153\n",
      "370\n",
      "371\n",
      "407\n"
     ]
    }
   ],
   "source": [
    "#Question1\n",
    "for num in range(int(input(\"enter the lower limit: \")),int(input(\"enter the upper limit: \"))+1):      \n",
    "   sum = 0\n",
    "   temp = num\n",
    "   while temp > 0:\n",
    "       sum+=pow(temp % 10,len(str(num)))\n",
    "       temp //= 10\n",
    "   if num == sum:\n",
    "       print(num)"
   ]
  },
  {
   "cell_type": "code",
   "execution_count": 94,
   "id": "b01d1681",
   "metadata": {},
   "outputs": [
    {
     "name": "stdout",
     "output_type": "stream",
     "text": [
      "Enter n value: 5\n",
      "Enter r value: 2\n",
      "The value of 5C2= 10.0\n"
     ]
    }
   ],
   "source": [
    "#QUESTION2\n",
    "def factorial(n):\n",
    "    fact = 1\n",
    "    for i in range(1,n+1):\n",
    "        fact = fact * i\n",
    "    return fact\n",
    "n = int(input(\"Enter n value: \"))\n",
    "r = int(input(\"Enter r value: \"))\n",
    "print(\"The value of %dC%d=\"%(n,r),factorial(n)/(factorial(r)*factorial(n-r)))"
   ]
  },
  {
   "cell_type": "code",
   "execution_count": 93,
   "id": "e691e650",
   "metadata": {},
   "outputs": [
    {
     "name": "stdout",
     "output_type": "stream",
     "text": [
      "Input:-9\n",
      "febonacci series upto 9 is-\n",
      "0\n",
      "1\n",
      "1\n",
      "2\n",
      "3\n",
      "5\n",
      "8\n"
     ]
    }
   ],
   "source": [
    "#Question3\n",
    "c,a,b=0,0,1\n",
    "n=int(input(\"Input:-\"))\n",
    "print('febonacci series upto %d th term is-'%n)\n",
    "while c<n:\n",
    "    print(c)\n",
    "    a=b\n",
    "    b=c\n",
    "    c=a+b"
   ]
  },
  {
   "cell_type": "code",
   "execution_count": 16,
   "id": "69723173",
   "metadata": {},
   "outputs": [
    {
     "name": "stdout",
     "output_type": "stream",
     "text": [
      "Array after merging\n",
      "1 2 3 4 5 6 7 8 "
     ]
    }
   ],
   "source": [
    "#question7\n",
    "def mergeArrays(arr1, arr2, n1, n2):\n",
    "    arr3 = [None] * (n1 + n2)\n",
    "    i = 0\n",
    "    j = 0\n",
    "    k = 0\n",
    "    while i < n1 and j < n2:\n",
    "     \n",
    "        if arr1[i] < arr2[j]:\n",
    "            arr3[k] = arr1[i]\n",
    "            k = k + 1\n",
    "            i = i + 1\n",
    "        else:\n",
    "            arr3[k] = arr2[j]\n",
    "            k = k + 1\n",
    "            j = j + 1\n",
    "    while i < n1:\n",
    "        arr3[k] = arr1[i];\n",
    "        k = k + 1\n",
    "        i = i + 1 \n",
    "    while j < n2:\n",
    "        arr3[k] = arr2[j];\n",
    "        k = k + 1\n",
    "        j = j + 1\n",
    "    print(\"Array after merging\")\n",
    "    for i in range(n1 + n2):\n",
    "        print(str(arr3[i]), end = \" \")\n",
    "arr1 = [1, 3, 5, 7]\n",
    "n1 = len(arr1) \n",
    "arr2 = [2, 4, 6, 8]\n",
    "n2 = len(arr2)\n",
    "mergeArrays(arr1, arr2, n1, n2);"
   ]
  },
  {
   "cell_type": "code",
   "execution_count": 25,
   "id": "461ca270",
   "metadata": {},
   "outputs": [
    {
     "name": "stdout",
     "output_type": "stream",
     "text": [
      "enter the number you want to search: 7\n",
      "Element found at index:  4\n"
     ]
    }
   ],
   "source": [
    "#question10\n",
    "def linear_Search(list1, n, key):    \n",
    "    for i in range(0, n):  \n",
    "        if (list1[i] == key):  \n",
    "            return i  \n",
    "    return -1    \n",
    "list1 = [1 ,3, 5, 4, 7, 9]  \n",
    "key = int(input(\"enter the number you want to search: \"))  \n",
    "n = len(list1)  \n",
    "res = linear_Search(list1, n, key)  \n",
    "if(res == -1):  \n",
    "    print(\"Element not found\")  \n",
    "else:  \n",
    "    print(\"Element found at index: \", res)  "
   ]
  },
  {
   "cell_type": "code",
   "execution_count": 36,
   "id": "e07695a9",
   "metadata": {},
   "outputs": [
    {
     "name": "stdout",
     "output_type": "stream",
     "text": [
      "The Sum of Diagonal Elements of a Matrix =  150\n"
     ]
    }
   ],
   "source": [
    "#question11\n",
    "import numpy as np\n",
    "a = [[10,20,30],[40,50,60],[70,80,90]]\n",
    "b = np.asarray(a)\n",
    "print('The Sum of Diagonal Elements of a Matrix = ', np.trace(b))"
   ]
  },
  {
   "cell_type": "code",
   "execution_count": 77,
   "id": "30e9d09a",
   "metadata": {},
   "outputs": [
    {
     "name": "stdout",
     "output_type": "stream",
     "text": [
      "30 24 18 \n",
      "84 69 54 \n",
      "138 114 90 \n"
     ]
    }
   ],
   "source": [
    "#question12\n",
    "def matrix_multiplication(M, N):    \n",
    "    R = [[0, 0, 0],\n",
    "        [0, 0, 0],        \n",
    "        [0, 0, 0]] \n",
    "    for i in range(0, 3):\n",
    "        for j in range(0, 3):\n",
    "            for k in range(0, 3):\n",
    "                R[i][j] += M[i][k] * N[k][j] \n",
    "    for i in range(0, 3):\n",
    "        for j in range(0, 3):\n",
    "            print(R[i][j], end =\" \")\n",
    "        print(\"\\n\", end =\"\")\n",
    "M = [[1,2,3],\n",
    "    [4,5,6],    \n",
    "    [7,8,9]]\n",
    "N = [[9,8,7],\n",
    "    [6,5,4],    \n",
    "    [3,2,1]]\n",
    "matrix_multiplication(M, N)"
   ]
  },
  {
   "cell_type": "code",
   "execution_count": 78,
   "id": "7f790c79",
   "metadata": {},
   "outputs": [
    {
     "name": "stdout",
     "output_type": "stream",
     "text": [
      "The maximum element is 20\n",
      "20 has occurred 3 times\n"
     ]
    }
   ],
   "source": [
    "#question13\n",
    "def findMax(arr, low, high):\n",
    "    max = arr[low]\n",
    "    i = low\n",
    "    for i in range(high+1):\n",
    "        if arr[i] > max:\n",
    "            max = arr[i]\n",
    "    return max\n",
    "arr = [10,20,20,20,5,3]\n",
    "n = len(arr)\n",
    "x=findMax(arr, 0, n-1)\n",
    "print (\"The maximum element is %d\"%x)\n",
    "def countX(lst, x):\n",
    "    count = 0\n",
    "    for ele in arr:\n",
    "        if (ele == x):\n",
    "            count = count + 1\n",
    "    return count\n",
    "print('{} has occurred {} times'.format(x, countX(arr, x)))"
   ]
  },
  {
   "cell_type": "code",
   "execution_count": 82,
   "id": "24733076",
   "metadata": {},
   "outputs": [
    {
     "name": "stdout",
     "output_type": "stream",
     "text": [
      "[1, 2, 3]\n",
      "[4, 5, 6]\n",
      "[7, 8, 9]\n",
      "-------------------------------------\n",
      "the transpose of matrix is:- \n",
      "[1, 4, 7]\n",
      "[2, 5, 8]\n",
      "[3, 6, 9]\n"
     ]
    }
   ],
   "source": [
    "#question14\n",
    "m = [[1,2,3],[4,5,6],[7,8,9]]\n",
    "for row in m :\n",
    "    print(row)\n",
    "rez = [[m[j][i] for j in range(len(m))] for i in range(len(m[0]))]\n",
    "print(\"-------------------------------------\")\n",
    "print(\"the transpose of matrix is:- \")\n",
    "for row in rez:\n",
    "    print(row)"
   ]
  },
  {
   "cell_type": "code",
   "execution_count": null,
   "id": "c746531b",
   "metadata": {},
   "outputs": [],
   "source": []
  }
 ],
 "metadata": {
  "kernelspec": {
   "display_name": "Python 3",
   "language": "python",
   "name": "python3"
  },
  "language_info": {
   "codemirror_mode": {
    "name": "ipython",
    "version": 3
   },
   "file_extension": ".py",
   "mimetype": "text/x-python",
   "name": "python",
   "nbconvert_exporter": "python",
   "pygments_lexer": "ipython3",
   "version": "3.8.8"
  }
 },
 "nbformat": 4,
 "nbformat_minor": 5
}
