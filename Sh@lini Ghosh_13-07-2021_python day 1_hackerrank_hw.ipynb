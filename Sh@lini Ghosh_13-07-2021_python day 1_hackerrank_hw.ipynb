{
 "cells": [
  {
   "cell_type": "code",
   "execution_count": 12,
   "id": "65ebedc5",
   "metadata": {},
   "outputs": [
    {
     "name": "stdout",
     "output_type": "stream",
     "text": [
      "1505,1540,1575,1610,1645,1680,1715,1750,1785,1820,1855,1890,1925,1960,1995,2030,2065,2100,2135,2170,2205,2240,2275,2310,2345,2380,2415,2450,2485,2520,2555,2590,2625,2660,2695\n"
     ]
    }
   ],
   "source": [
    "#question1\n",
    "a=[]\n",
    "for x in range(1500, 2701):\n",
    "    if (x%7==0) and (x%5==0):\n",
    "        a.append(str(x))\n",
    "print (','.join(a))"
   ]
  },
  {
   "cell_type": "code",
   "execution_count": 3,
   "id": "0a831f92",
   "metadata": {},
   "outputs": [
    {
     "name": "stdout",
     "output_type": "stream",
     "text": [
      "140 in Fahrenheit\n"
     ]
    }
   ],
   "source": [
    "#question2\n",
    "celsius = 60.0\n",
    "fahrenheit = (celsius * 1.8) + 32\n",
    "print('%d in Fahrenheit'%(fahrenheit))"
   ]
  },
  {
   "cell_type": "code",
   "execution_count": 3,
   "id": "13e1edd7",
   "metadata": {},
   "outputs": [
    {
     "ename": "TypeError",
     "evalue": "can only concatenate str (not \"int\") to str",
     "output_type": "error",
     "traceback": [
      "\u001b[1;31m---------------------------------------------------------------------------\u001b[0m",
      "\u001b[1;31mTypeError\u001b[0m                                 Traceback (most recent call last)",
      "\u001b[1;32m<ipython-input-3-683a75d5e8b2>\u001b[0m in \u001b[0;36m<module>\u001b[1;34m\u001b[0m\n\u001b[0;32m      2\u001b[0m \u001b[1;32mimport\u001b[0m \u001b[0mrandom\u001b[0m\u001b[1;33m\u001b[0m\u001b[1;33m\u001b[0m\u001b[0m\n\u001b[0;32m      3\u001b[0m \u001b[0mx\u001b[0m \u001b[1;33m=\u001b[0m \u001b[0mrandom\u001b[0m\u001b[1;33m.\u001b[0m\u001b[0mrandint\u001b[0m\u001b[1;33m(\u001b[0m\u001b[1;36m1\u001b[0m\u001b[1;33m,\u001b[0m \u001b[1;36m10\u001b[0m\u001b[1;33m)\u001b[0m\u001b[1;33m\u001b[0m\u001b[1;33m\u001b[0m\u001b[0m\n\u001b[1;32m----> 4\u001b[1;33m \u001b[0mprint\u001b[0m\u001b[1;33m(\u001b[0m\u001b[0mint\u001b[0m\u001b[1;33m(\u001b[0m\u001b[0minput\u001b[0m\u001b[1;33m(\u001b[0m\u001b[1;34m'Guess a number between 1 and 10 until you get it right : '\u001b[0m\u001b[1;33m+\u001b[0m\u001b[0mx\u001b[0m\u001b[1;33m)\u001b[0m\u001b[1;33m)\u001b[0m\u001b[1;33m)\u001b[0m\u001b[1;33m\u001b[0m\u001b[1;33m\u001b[0m\u001b[0m\n\u001b[0m\u001b[0;32m      5\u001b[0m \u001b[0mprint\u001b[0m\u001b[1;33m(\u001b[0m\u001b[1;34m'Well guessed!'\u001b[0m\u001b[1;33m)\u001b[0m\u001b[1;33m\u001b[0m\u001b[1;33m\u001b[0m\u001b[0m\n",
      "\u001b[1;31mTypeError\u001b[0m: can only concatenate str (not \"int\") to str"
     ]
    }
   ],
   "source": [
    "#question3\n",
    "import random\n",
    "x = random.randint(1, 10)\n",
    "print(int(input('Guess a number between 1 and 10 until you get it right : '+x)))\n",
    "print('Well guessed!')"
   ]
  },
  {
   "cell_type": "code",
   "execution_count": 4,
   "id": "7fa32b03",
   "metadata": {},
   "outputs": [
    {
     "name": "stdout",
     "output_type": "stream",
     "text": [
      "Guess a number between 1 and 10 until you get it right : 4\n",
      "Guess a number between 1 and 10 until you get it right : 4\n",
      "Guess a number between 1 and 10 until you get it right : 3\n",
      "Guess a number between 1 and 10 until you get it right : 2\n",
      "Guess a number between 1 and 10 until you get it right : \n"
     ]
    },
    {
     "ename": "ValueError",
     "evalue": "invalid literal for int() with base 10: ''",
     "output_type": "error",
     "traceback": [
      "\u001b[1;31m---------------------------------------------------------------------------\u001b[0m",
      "\u001b[1;31mValueError\u001b[0m                                Traceback (most recent call last)",
      "\u001b[1;32m<ipython-input-4-f3c6e7f63dd9>\u001b[0m in \u001b[0;36m<module>\u001b[1;34m\u001b[0m\n\u001b[0;32m      3\u001b[0m \u001b[0mtarget_num\u001b[0m\u001b[1;33m,\u001b[0m \u001b[0mguess_num\u001b[0m \u001b[1;33m=\u001b[0m \u001b[0mrandom\u001b[0m\u001b[1;33m.\u001b[0m\u001b[0mrandint\u001b[0m\u001b[1;33m(\u001b[0m\u001b[1;36m1\u001b[0m\u001b[1;33m,\u001b[0m \u001b[1;36m10\u001b[0m\u001b[1;33m)\u001b[0m\u001b[1;33m,\u001b[0m \u001b[1;36m0\u001b[0m\u001b[1;33m\u001b[0m\u001b[1;33m\u001b[0m\u001b[0m\n\u001b[0;32m      4\u001b[0m \u001b[1;32mwhile\u001b[0m \u001b[0mtarget_num\u001b[0m \u001b[1;33m!=\u001b[0m \u001b[0mguess_num\u001b[0m\u001b[1;33m:\u001b[0m\u001b[1;33m\u001b[0m\u001b[1;33m\u001b[0m\u001b[0m\n\u001b[1;32m----> 5\u001b[1;33m     \u001b[0mguess_num\u001b[0m \u001b[1;33m=\u001b[0m \u001b[0mint\u001b[0m\u001b[1;33m(\u001b[0m\u001b[0minput\u001b[0m\u001b[1;33m(\u001b[0m\u001b[1;34m'Guess a number between 1 and 10 until you get it right : '\u001b[0m\u001b[1;33m)\u001b[0m\u001b[1;33m)\u001b[0m\u001b[1;33m\u001b[0m\u001b[1;33m\u001b[0m\u001b[0m\n\u001b[0m\u001b[0;32m      6\u001b[0m \u001b[0mprint\u001b[0m\u001b[1;33m(\u001b[0m\u001b[1;34m'Well guessed!'\u001b[0m\u001b[1;33m)\u001b[0m\u001b[1;33m\u001b[0m\u001b[1;33m\u001b[0m\u001b[0m\n",
      "\u001b[1;31mValueError\u001b[0m: invalid literal for int() with base 10: ''"
     ]
    }
   ],
   "source": [
    "#question3\n",
    "import random\n",
    "target_num, guess_num = random.randint(1, 10), 0\n",
    "while target_num != guess_num:\n",
    "    guess_num = int(input('Guess a number between 1 and 10 until you get it right : '))\n",
    "print('Well guessed!')"
   ]
  },
  {
   "cell_type": "code",
   "execution_count": null,
   "id": "64dc27c2",
   "metadata": {},
   "outputs": [],
   "source": [
    "Q1) Write a python program to accept user’s year of birth and calculate his age. Print the age on the screen.\n",
    "Q2) Take input of 2 numbers and divide them. Print the output on screen\n"
   ]
  },
  {
   "cell_type": "markdown",
   "id": "ab34aeef",
   "metadata": {},
   "source": [
    "# question4\n",
    "print(\"Reversed word: \",input(\"Enter a word: \")[::-1])"
   ]
  },
  {
   "cell_type": "code",
   "execution_count": 9,
   "id": "d2d5c6e0",
   "metadata": {},
   "outputs": [
    {
     "name": "stdout",
     "output_type": "stream",
     "text": [
      "Number of even numbers : 5\n",
      "Number of odd numbers : 4\n"
     ]
    }
   ],
   "source": [
    "#question5\n",
    "numbers = (1, 2, 3, 4, 5, 6, 7, 8, 9)\n",
    "count_odd = 0\n",
    "count_even = 0\n",
    "for x in numbers:\n",
    "        if not x % 2:\n",
    "             count_odd+=1\n",
    "        else:\n",
    "             count_even+=1\n",
    "print(\"Number of even numbers :\",count_even)\n",
    "print(\"Number of odd numbers :\",count_odd)\n"
   ]
  },
  {
   "cell_type": "code",
   "execution_count": 10,
   "id": "f8cbae2f",
   "metadata": {},
   "outputs": [
    {
     "name": "stdout",
     "output_type": "stream",
     "text": [
      "Type of  1452  is  <class 'int'>\n",
      "Type of  11.23  is  <class 'float'>\n",
      "Type of  (1+2j)  is  <class 'complex'>\n",
      "Type of  True  is  <class 'bool'>\n",
      "Type of  w3resource  is  <class 'str'>\n",
      "Type of  (0, -1)  is  <class 'tuple'>\n",
      "Type of  [5, 12]  is  <class 'list'>\n",
      "Type of  {'class': 'V', 'section': 'A'}  is  <class 'dict'>\n"
     ]
    }
   ],
   "source": [
    "#question6\n",
    "datalist = [1452, 11.23, 1+2j, True, 'w3resource', (0, -1), [5, 12],\n",
    "{\"class\":'V', \"section\":'A'}]\n",
    "for item in datalist:\n",
    "   print (\"Type of \",item, \" is \", type(item))"
   ]
  },
  {
   "cell_type": "code",
   "execution_count": 11,
   "id": "f5dba14d",
   "metadata": {},
   "outputs": [
    {
     "name": "stdout",
     "output_type": "stream",
     "text": [
      "0 1 2 4 5 \n",
      "\n"
     ]
    }
   ],
   "source": [
    "#question7\n",
    "for x in range(6):\n",
    "    if (x == 3 or x==6):\n",
    "        continue\n",
    "    print(x,end=' ')\n",
    "print(\"\\n\")"
   ]
  },
  {
   "cell_type": "code",
   "execution_count": 15,
   "id": "b1d338bf",
   "metadata": {},
   "outputs": [
    {
     "name": "stdout",
     "output_type": "stream",
     "text": [
      "1\n",
      "1\n",
      "2\n",
      "3\n",
      "5\n",
      "8\n",
      "13\n",
      "21\n",
      "34\n"
     ]
    }
   ],
   "source": [
    "#question8\n",
    "x,y=0,1\n",
    "while y<50:\n",
    "    print(y)\n",
    "    x,y = y,x+y"
   ]
  },
  {
   "cell_type": "code",
   "execution_count": 18,
   "id": "d58405ea",
   "metadata": {},
   "outputs": [
    {
     "name": "stdout",
     "output_type": "stream",
     "text": [
      "fizzbuzz\n",
      "1\n",
      "2\n",
      "fizz\n",
      "4\n",
      "buzz\n",
      "fizz\n",
      "7\n",
      "8\n",
      "fizz\n",
      "buzz\n",
      "11\n",
      "fizz\n",
      "13\n",
      "14\n",
      "fizzbuzz\n",
      "16\n",
      "17\n",
      "fizz\n",
      "19\n",
      "buzz\n",
      "fizz\n",
      "22\n",
      "23\n",
      "fizz\n",
      "buzz\n",
      "26\n",
      "fizz\n",
      "28\n",
      "29\n",
      "fizzbuzz\n",
      "31\n",
      "32\n",
      "fizz\n",
      "34\n",
      "buzz\n",
      "fizz\n",
      "37\n",
      "38\n",
      "fizz\n",
      "buzz\n",
      "41\n",
      "fizz\n",
      "43\n",
      "44\n",
      "fizzbuzz\n",
      "46\n",
      "47\n",
      "fizz\n",
      "49\n",
      "buzz\n"
     ]
    }
   ],
   "source": [
    "#question9\n",
    "for a in range(51):\n",
    "    print(\"fizzbuzz\" if a % 15==0 else (\"fizz\" if a % 3 ==0 else (\"buzz\" if a % 5==0 else a)))"
   ]
  },
  {
   "cell_type": "code",
   "execution_count": 21,
   "id": "0856dbeb",
   "metadata": {},
   "outputs": [
    {
     "name": "stdout",
     "output_type": "stream",
     "text": [
      "khokho\n",
      "The entered string is symmetrical\n",
      "The entered string is not palindrome\n"
     ]
    }
   ],
   "source": [
    "#question10\n",
    "str=input()\n",
    "print(\"The entered string is symmetrical\" if str[:int(len(str)/2)]==str[-int(len(str)/2):] else \"The entered string is not symmetrical\")\n",
    "print(\"The entered string is palindrome\" if str==str[::-1] else \"The entered string is not palindrome\")"
   ]
  },
  {
   "cell_type": "code",
   "execution_count": 12,
   "id": "1ec69455",
   "metadata": {},
   "outputs": [
    {
     "name": "stdout",
     "output_type": "stream",
     "text": [
      "Enter a sentence: i love you\n",
      "The reversed sentence is:  you love i\n"
     ]
    }
   ],
   "source": [
    "#question11\n",
    "print(\"The reversed sentence is: \",\" \".join((input(\"Enter a sentence: \").split())[::-1]))"
   ]
  },
  {
   "cell_type": "code",
   "execution_count": null,
   "id": "92515aea",
   "metadata": {},
   "outputs": [],
   "source": [
    "#question12\n",
    "str=input(\"Input : \")\n",
    "print(\"Output :\",str[:1].upper()+str[1:str.index(\" \")-1]+str[str.index(\" \")-1:str.index(\" \")+2].upper()+str[str.index(\" \")+2:-1]+str[-1:].upper())"
   ]
  },
  {
   "cell_type": "code",
   "execution_count": 31,
   "id": "39719185",
   "metadata": {},
   "outputs": [
    {
     "name": "stdout",
     "output_type": "stream",
     "text": [
      "welcome2ourcountry34\n",
      "True\n"
     ]
    }
   ],
   "source": [
    "#question13\n",
    "str=input()\n",
    "print(any(char.isdigit() for char in str) and any(char.isalpha() for char in str))"
   ]
  },
  {
   "cell_type": "code",
   "execution_count": 32,
   "id": "90538d28",
   "metadata": {},
   "outputs": [
    {
     "name": "stdout",
     "output_type": "stream",
     "text": [
      "GeeksforGeeks\n",
      "5\n"
     ]
    }
   ],
   "source": [
    "#question14\n",
    "c=0\n",
    "for i in input():\n",
    "    if i.lower() in ('a', 'e', 'i', 'o', 'u'):c+=1\n",
    "print(c)"
   ]
  },
  {
   "cell_type": "code",
   "execution_count": 35,
   "id": "7bfbff5e",
   "metadata": {},
   "outputs": [
    {
     "name": "stdout",
     "output_type": "stream",
     "text": [
      "Input: geeks for geeks\n",
      "Output: geeks-for-geeks\n"
     ]
    }
   ],
   "source": [
    "#question15\n",
    "print(\"Output:\",\"-\".join(input(\"Input: \").split()))"
   ]
  },
  {
   "cell_type": "code",
   "execution_count": 10,
   "id": "42ed0a94",
   "metadata": {},
   "outputs": [
    {
     "name": "stdout",
     "output_type": "stream",
     "text": [
      "10\n",
      "5\n",
      "Division of 10  and 5  is 2.0\n"
     ]
    }
   ],
   "source": [
    "a=int(input())\n",
    "b=int(input())\n",
    "\n",
    "print (\"Division of\",a,\" and\",b,\" is\", a/b)"
   ]
  },
  {
   "cell_type": "code",
   "execution_count": 5,
   "id": "f9419ac8",
   "metadata": {},
   "outputs": [
    {
     "name": "stdout",
     "output_type": "stream",
     "text": [
      "10\n",
      "a x 1 = 10\n",
      "a x 2 = 20\n",
      "a x 3 = 30\n",
      "a x 4 = 40\n",
      "a x 5 = 50\n",
      "a x 6 = 60\n",
      "a x 7 = 70\n",
      "a x 8 = 80\n",
      "a x 9 = 90\n",
      "a x 10 = 100\n"
     ]
    }
   ],
   "source": [
    "a=int(input())\n",
    "for i in range(1,11): print('a x', i ,'=' , a*i)"
   ]
  },
  {
   "cell_type": "code",
   "execution_count": null,
   "id": "646f151d",
   "metadata": {},
   "outputs": [],
   "source": []
  }
 ],
 "metadata": {
  "kernelspec": {
   "display_name": "Python 3",
   "language": "python",
   "name": "python3"
  },
  "language_info": {
   "codemirror_mode": {
    "name": "ipython",
    "version": 3
   },
   "file_extension": ".py",
   "mimetype": "text/x-python",
   "name": "python",
   "nbconvert_exporter": "python",
   "pygments_lexer": "ipython3",
   "version": "3.8.8"
  }
 },
 "nbformat": 4,
 "nbformat_minor": 5
}
